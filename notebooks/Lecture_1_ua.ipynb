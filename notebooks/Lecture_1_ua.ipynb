{
 "cells": [
  {
   "cell_type": "markdown",
   "metadata": {},
   "source": [
    "### Матеріали до лекції №1"
   ]
  },
  {
   "cell_type": "markdown",
   "metadata": {},
   "source": [
    "Перевірка поточної директорії"
   ]
  },
  {
   "cell_type": "code",
   "execution_count": 1,
   "metadata": {},
   "outputs": [
    {
     "data": {
      "text/plain": [
       "'C:\\\\Users\\\\User\\\\test\\\\lectures'"
      ]
     },
     "execution_count": 1,
     "metadata": {},
     "output_type": "execute_result"
    }
   ],
   "source": [
    "import os # бібліотека для взаємодії з операційною системою \n",
    "os.getcwd() # отримання поточного діректорію (current working directory)"
   ]
  },
  {
   "cell_type": "markdown",
   "metadata": {},
   "source": [
    " Введіть в комірку арифметичну дію и нажміть Run (або Shift-Enter) - отримаєте результат "
   ]
  },
  {
   "cell_type": "code",
   "execution_count": 2,
   "metadata": {},
   "outputs": [
    {
     "data": {
      "text/plain": [
       "7"
      ]
     },
     "execution_count": 2,
     "metadata": {},
     "output_type": "execute_result"
    }
   ],
   "source": [
    "2+5"
   ]
  },
  {
   "cell_type": "markdown",
   "metadata": {},
   "source": [
    " Або ж введіть оператори  "
   ]
  },
  {
   "cell_type": "code",
   "execution_count": 6,
   "metadata": {
    "scrolled": false
   },
   "outputs": [
    {
     "name": "stdout",
     "output_type": "stream",
     "text": [
      "Hello\n",
      "Hello\n",
      "Hello\n"
     ]
    }
   ],
   "source": [
    "for i in range(3):\n",
    "    print ('Hello')"
   ]
  },
  {
   "cell_type": "code",
   "execution_count": 4,
   "metadata": {
    "scrolled": true
   },
   "outputs": [
    {
     "data": {
      "text/plain": [
       "[1, 2, 4, 8, 16, 32, 64, 128, 256, 512, 1024]"
      ]
     },
     "execution_count": 4,
     "metadata": {},
     "output_type": "execute_result"
    }
   ],
   "source": [
    "a=[]\n",
    "for i in range(11):\n",
    "    a.append(2**i)\n",
    "a"
   ]
  },
  {
   "cell_type": "markdown",
   "metadata": {},
   "source": [
    "Використання спискового включення"
   ]
  },
  {
   "cell_type": "code",
   "execution_count": 7,
   "metadata": {},
   "outputs": [
    {
     "data": {
      "text/plain": [
       "[1, 2, 4, 8, 16, 32, 64, 128, 256, 512, 1024]"
      ]
     },
     "execution_count": 7,
     "metadata": {},
     "output_type": "execute_result"
    }
   ],
   "source": [
    "a = [2**x for x in range(11)]\n",
    "a"
   ]
  },
  {
   "cell_type": "code",
   "execution_count": 8,
   "metadata": {},
   "outputs": [
    {
     "data": {
      "text/plain": [
       "[1, 2, 4, 8, 16, 32, 64, 128, 256, 512, 1024]"
      ]
     },
     "execution_count": 8,
     "metadata": {},
     "output_type": "execute_result"
    }
   ],
   "source": [
    "a=[]\n",
    "for i in range(11):\n",
    "    a.append(2**i)\n",
    "a"
   ]
  },
  {
   "cell_type": "code",
   "execution_count": 9,
   "metadata": {},
   "outputs": [
    {
     "name": "stdout",
     "output_type": "stream",
     "text": [
      "[1, 2, 4, 8, 16, 32, 64, 128, 256, 512, 1024]\n"
     ]
    }
   ],
   "source": [
    "a=[]\n",
    "for i in range(11):\n",
    "    a.append(2**i)\n",
    "print (a)"
   ]
  },
  {
   "cell_type": "markdown",
   "metadata": {},
   "source": [
    "Змінивши тип комірок на [Markdown](https://www.markdownguide.org) можна створювати розмічений текст  \n",
    "Наприклад:\n",
    "* використовувати заголовки різних рівнів \n",
    "# Заголовок першого рівня  \n",
    "## Заголовок другого рівня\n",
    "...\n",
    "##### Заголовок шостого рівня\n",
    "\n",
    "* використовувати **напівжирний шрифт** та *курсив*\n",
    "* створювати [посилання](https://en.wikipedia.org/wiki/Markdown)\n",
    "* вставляти картинки  ![Picture](https://upload.wikimedia.org/wikipedia/commons/thumb/4/48/Markdown-mark.svg/130px-Markdown-mark.svg.png)\n",
    "<b>В тому числі картинки можна вставляти перетягуванням миші із папки в блокнот (див. нижче)</b>\n",
    "\n",
    "* створювати таблиці \n",
    "\n",
    "| This | is   | a head  |\n",
    "|------|------|---------|\n",
    "| this | is   |  a row 1|\n",
    "| this | is   |  a row 2|\n",
    "| this | is   |  a row 3|\n",
    "\n",
    "* використовувати LaTex для створення формул\n",
    " 1. всередині речення, використовуючи символ `$` з обох боків. Наприклад, $e^{i\\pi} + 1 = 0$\n",
    " 2. в пустому рядку, використовуючи `$$` з обох боків. Наприклад, $$e^x=\\sum_{i=0}^\\infty \\frac{1}{i!}x^i$$\n",
    " \n",
    " \n",
    " \n",
    "* використовувати HTML теги\n",
    " 1. <div style=\"color:red; font-size:1.5em\" >Це приклад</div>\n",
    " 2. <img src=\"https://upload.wikimedia.org/wikipedia/commons/thumb/0/0a/Python.svg/1200px-Python.svg.png\" width=\"150\">\n",
    " "
   ]
  },
  {
   "cell_type": "markdown",
   "metadata": {},
   "source": [
    "Використання коду на сторонніх мовах"
   ]
  },
  {
   "cell_type": "code",
   "execution_count": 70,
   "metadata": {},
   "outputs": [
    {
     "data": {
      "text/html": [
       "<style>\n",
       ".example{\n",
       "    color:red;\n",
       "    border:4px double brown;\n",
       "    background: #eee;\n",
       "    padding: 20px;\n",
       "    width:110px;\n",
       "    border-radius:8px;\n",
       "    font-size:18pt;\n",
       "}\n",
       "</style>\n",
       "<div class=\"example\">Hello!</div>\n"
      ],
      "text/plain": [
       "<IPython.core.display.HTML object>"
      ]
     },
     "metadata": {},
     "output_type": "display_data"
    }
   ],
   "source": [
    "%%HTML\n",
    "<style>\n",
    ".example{\n",
    "    color:red;\n",
    "    border:4px double brown;\n",
    "    background: #eee;\n",
    "    padding: 20px;\n",
    "    width:110px;\n",
    "    border-radius:8px;\n",
    "    font-size:18pt;\n",
    "}\n",
    "</style>\n",
    "<div class=\"example\">Hello!</div>"
   ]
  },
  {
   "cell_type": "code",
   "execution_count": 26,
   "metadata": {},
   "outputs": [
    {
     "data": {
      "application/javascript": [
       "alert('javascript works!')\n"
      ],
      "text/plain": [
       "<IPython.core.display.Javascript object>"
      ]
     },
     "metadata": {},
     "output_type": "display_data"
    }
   ],
   "source": [
    "%%javascript\n",
    "alert('javascript works!')"
   ]
  },
  {
   "cell_type": "code",
   "execution_count": 27,
   "metadata": {},
   "outputs": [
    {
     "data": {
      "text/html": [
       "<style>\n",
       ".example{\n",
       "    color:red;\n",
       "    border:4px double brown;\n",
       "    background: #eee;\n",
       "    padding: 20px;\n",
       "}\n",
       "</style>\n",
       "<svg width=\"800\" height=\"300\">\n",
       "  <circle cx=\"150\" cy=\"180\" r=\"80\" fill-opacity=\"0.2\" stroke=\"black\" stroke-width=\"2\" fill=\"blue\" />\n",
       "  <circle cx=\"200\" cy=\"100\" r=\"80\" fill-opacity=\"0.2\" stroke=\"black\" stroke-width=\"2\" fill=\"red\" />\n",
       "  <circle cx=\"100\" cy=\"100\" r=\"80\" fill-opacity=\"0.2\" stroke=\"black\" stroke-width=\"2\" fill=\"green\" />\n",
       "  <line x1=\"150\" y1=\"125\" x2=\"300\" y2=\"150\" stroke=\"black\" stroke-width=\"2\" fill=\"black\" stroke-dasharray=\"5,3\"/>\n",
       "  <text  x=\"60\" y=\"100\" font-family=\"Verdana\" font-size=\"15\">Green</text>\n",
       "  <text  x=\"190\" y=\"100\" font-family=\"Verdana\" font-size=\"15\">Red</text>\n",
       "  <text  x=\"140\" y=\"200\" font-family=\"Verdana\" font-size=\"15\">Blue</text>\n",
       "  <text  x=\"300\" y=\"165\" font-family=\"Verdana\" font-size=\"35\">Center!</text>\n",
       "</svg>\n"
      ],
      "text/plain": [
       "<IPython.core.display.HTML object>"
      ]
     },
     "metadata": {},
     "output_type": "display_data"
    }
   ],
   "source": [
    "%%HTML\n",
    "<style>\n",
    ".example{\n",
    "    color:red;\n",
    "    border:4px double brown;\n",
    "    background: #eee;\n",
    "    padding: 20px;\n",
    "}\n",
    "</style>\n",
    "<svg width=\"800\" height=\"300\">\n",
    "  <circle cx=\"150\" cy=\"180\" r=\"80\" fill-opacity=\"0.2\" stroke=\"black\" stroke-width=\"2\" fill=\"blue\" />\n",
    "  <circle cx=\"200\" cy=\"100\" r=\"80\" fill-opacity=\"0.2\" stroke=\"black\" stroke-width=\"2\" fill=\"red\" />\n",
    "  <circle cx=\"100\" cy=\"100\" r=\"80\" fill-opacity=\"0.2\" stroke=\"black\" stroke-width=\"2\" fill=\"green\" />\n",
    "  <line x1=\"150\" y1=\"125\" x2=\"300\" y2=\"150\" stroke=\"black\" stroke-width=\"2\" fill=\"black\" stroke-dasharray=\"5,3\"/>\n",
    "  <text  x=\"60\" y=\"100\" font-family=\"Verdana\" font-size=\"15\">Green</text>\n",
    "  <text  x=\"190\" y=\"100\" font-family=\"Verdana\" font-size=\"15\">Red</text>\n",
    "  <text  x=\"140\" y=\"200\" font-family=\"Verdana\" font-size=\"15\">Blue</text>\n",
    "  <text  x=\"300\" y=\"165\" font-family=\"Verdana\" font-size=\"35\">Center!</text>\n",
    "</svg>\n"
   ]
  },
  {
   "cell_type": "markdown",
   "metadata": {},
   "source": [
    "## Створення графіків"
   ]
  },
  {
   "cell_type": "code",
   "execution_count": 8,
   "metadata": {},
   "outputs": [
    {
     "data": {
      "image/png": "[encoded data removed]",
      "text/plain": [
       "<Figure size 432x288 with 1 Axes>"
      ]
     },
     "metadata": {
      "needs_background": "light"
     },
     "output_type": "display_data"
    }
   ],
   "source": [
    "import numpy as np\n",
    "%matplotlib inline\n",
    "import matplotlib.pyplot as plt\n",
    "N=10\n",
    "x=np.random.rand(N)\n",
    "y=np.random.rand(N)\n",
    "color=np.random.rand(N,3)# використання палітри RGB\n",
    "#color=np.random.rand(N)# використання вбудованої палітри\n",
    "area=np.pi*(30*np.random.rand(N))**2\n",
    "plt.scatter(x,y,s=area,c=color)\n",
    "plt.show;"
   ]
  },
  {
   "cell_type": "markdown",
   "metadata": {},
   "source": [
    "Отримання довідки"
   ]
  },
  {
   "cell_type": "code",
   "execution_count": 12,
   "metadata": {},
   "outputs": [],
   "source": [
    "np??"
   ]
  },
  {
   "attachments": {
    "1.png": {
     "image/png": "[encoded data removed]"
    },
    "2.png": {
     "image/png": "[encoded data removed]"
    }
   },
   "cell_type": "markdown",
   "metadata": {},
   "source": [
    "Коли ядро працює, то зліва від клітинки з'являється напис In[`*`]\n",
    "![1.png](attachment:1.png)\n",
    "а коло зверху справа буде зафарбованим  ![2.png](attachment:2.png)"
   ]
  },
  {
   "cell_type": "code",
   "execution_count": 10,
   "metadata": {},
   "outputs": [],
   "source": [
    "import time\n",
    "time.sleep (3) # coн у 3 секунди / sleep for 3 seconds"
   ]
  },
  {
   "cell_type": "markdown",
   "metadata": {},
   "source": [
    "Створення та виклик функцій"
   ]
  },
  {
   "cell_type": "code",
   "execution_count": 3,
   "metadata": {
    "scrolled": true
   },
   "outputs": [
    {
     "data": {
      "text/plain": [
       "'Hello, Jupyter!'"
      ]
     },
     "execution_count": 3,
     "metadata": {},
     "output_type": "execute_result"
    }
   ],
   "source": [
    "def say_hello(name):\n",
    "    return 'Hello, {}!'.format(name)\n",
    "say_hello('Jupyter')"
   ]
  },
  {
   "cell_type": "code",
   "execution_count": 14,
   "metadata": {},
   "outputs": [
    {
     "name": "stdout",
     "output_type": "stream",
     "text": [
      "N\t a\t area\t color\t i\t np\t os\t plt\t say_hello\t \n",
      "time\t x\t y\t \n"
     ]
    }
   ],
   "source": [
    "%who"
   ]
  },
  {
   "cell_type": "code",
   "execution_count": 15,
   "metadata": {},
   "outputs": [
    {
     "name": "stdout",
     "output_type": "stream",
     "text": [
      "Variable    Type        Data/Info\n",
      "---------------------------------\n",
      "N           int         10\n",
      "a           list        n=11\n",
      "area        ndarray     10: 10 elems, type `float64`, 80 bytes\n",
      "color       ndarray     10x3: 30 elems, type `float64`, 240 bytes\n",
      "i           int         10\n",
      "np          module      <module 'numpy' from 'C:\\<...>ges\\\\numpy\\\\__init__.py'>\n",
      "os          module      <module 'os' from 'C:\\\\Us<...>\\\\anaconda3\\\\lib\\\\os.py'>\n",
      "plt         module      <module 'matplotlib.pyplo<...>\\\\matplotlib\\\\pyplot.py'>\n",
      "say_hello   function    <function say_hello at 0x0000000008211168>\n",
      "time        module      <module 'time' (built-in)>\n",
      "x           ndarray     10: 10 elems, type `float64`, 80 bytes\n",
      "y           ndarray     10: 10 elems, type `float64`, 80 bytes\n"
     ]
    }
   ],
   "source": [
    "%whos"
   ]
  },
  {
   "cell_type": "code",
   "execution_count": 16,
   "metadata": {},
   "outputs": [],
   "source": [
    "a=3;b=5;c=a+5"
   ]
  },
  {
   "cell_type": "code",
   "execution_count": 17,
   "metadata": {},
   "outputs": [
    {
     "data": {
      "text/plain": [
       "8"
      ]
     },
     "execution_count": 17,
     "metadata": {},
     "output_type": "execute_result"
    }
   ],
   "source": [
    "c"
   ]
  },
  {
   "cell_type": "code",
   "execution_count": 19,
   "metadata": {},
   "outputs": [
    {
     "name": "stdout",
     "output_type": "stream",
     "text": [
      "The following commands were written to file `test.py`:\n",
      "a=3;b=5;c=a+5\n"
     ]
    }
   ],
   "source": [
    "%save test 16"
   ]
  },
  {
   "cell_type": "code",
   "execution_count": 23,
   "metadata": {},
   "outputs": [
    {
     "data": {
      "image/png": "[encoded data removed]",
      "text/plain": [
       "<Figure size 432x288 with 1 Axes>"
      ]
     },
     "metadata": {
      "needs_background": "light"
     },
     "output_type": "display_data"
    }
   ],
   "source": [
    "from matplotlib import pylab\n",
    "plot([1,-2,4,8,7,-3,5,3],linewidth=3);\n",
    "show()"
   ]
  },
  {
   "cell_type": "code",
   "execution_count": 60,
   "metadata": {},
   "outputs": [
    {
     "data": {
      "image/png": "[encoded data removed]",
      "text/plain": [
       "<Figure size 432x288 with 1 Axes>"
      ]
     },
     "metadata": {
      "needs_background": "light"
     },
     "output_type": "display_data"
    }
   ],
   "source": [
    "from matplotlib import pyplot\n",
    "from mpl_toolkits.mplot3d import Axes3D\n",
    "from numpy import linspace, meshgrid, pi, sin, sqrt\n",
    "u=linspace(-4*pi,4*pi,50)\n",
    "x,y=meshgrid(u,u)\n",
    "r=sqrt(x**2+y**2)\n",
    "z=sin(r)/r\n",
    "fig=figure()\n",
    "ax=Axes3D(fig)\n",
    "ax.plot_surface(x,y,z,rstride=1,cstride=1);"
   ]
  },
  {
   "cell_type": "code",
   "execution_count": 27,
   "metadata": {},
   "outputs": [],
   "source": [
    "meshgrid?"
   ]
  },
  {
   "cell_type": "code",
   "execution_count": 58,
   "metadata": {},
   "outputs": [
    {
     "name": "stderr",
     "output_type": "stream",
     "text": [
      "C:\\Users\\User\\anaconda3\\lib\\site-packages\\ipykernel_launcher.py:4: RuntimeWarning: invalid value encountered in true_divide\n",
      "  after removing the cwd from sys.path.\n"
     ]
    },
    {
     "data": {
      "image/png": "[encoded data removed]",
      "text/plain": [
       "<Figure size 432x288 with 1 Axes>"
      ]
     },
     "metadata": {
      "needs_background": "light"
     },
     "output_type": "display_data"
    }
   ],
   "source": [
    "x = np.arange(-5, 5, 1)\n",
    "y = np.arange(-5, 5, 1)\n",
    "xx, yy = np.meshgrid(x, y, sparse=True) \n",
    "z = np.sin(xx**2 + yy**2) / (xx**2 + yy**2) \n",
    "h = plt.contourf(x,y,z) "
   ]
  },
  {
   "cell_type": "code",
   "execution_count": 57,
   "metadata": {},
   "outputs": [
    {
     "data": {
      "text/plain": [
       "array([-5, -4, -3, -2, -1,  0,  1,  2,  3,  4])"
      ]
     },
     "execution_count": 57,
     "metadata": {},
     "output_type": "execute_result"
    }
   ],
   "source": [
    "x"
   ]
  },
  {
   "cell_type": "code",
   "execution_count": 61,
   "metadata": {},
   "outputs": [],
   "source": [
    "y=np.arange(-10,10,1)"
   ]
  },
  {
   "cell_type": "code",
   "execution_count": 62,
   "metadata": {},
   "outputs": [
    {
     "data": {
      "text/plain": [
       "array([-10,  -9,  -8,  -7,  -6,  -5,  -4,  -3,  -2,  -1,   0,   1,   2,\n",
       "         3,   4,   5,   6,   7,   8,   9])"
      ]
     },
     "execution_count": 62,
     "metadata": {},
     "output_type": "execute_result"
    }
   ],
   "source": [
    "y"
   ]
  },
  {
   "cell_type": "code",
   "execution_count": 63,
   "metadata": {},
   "outputs": [],
   "source": [
    "x=np.arange(-5,5,1)"
   ]
  },
  {
   "cell_type": "code",
   "execution_count": 64,
   "metadata": {},
   "outputs": [
    {
     "data": {
      "text/plain": [
       "array([-5, -4, -3, -2, -1,  0,  1,  2,  3,  4])"
      ]
     },
     "execution_count": 64,
     "metadata": {},
     "output_type": "execute_result"
    }
   ],
   "source": [
    "x"
   ]
  },
  {
   "cell_type": "code",
   "execution_count": 85,
   "metadata": {},
   "outputs": [],
   "source": [
    "xx,yy = np.meshgrid(x, y) "
   ]
  },
  {
   "cell_type": "code",
   "execution_count": 88,
   "metadata": {},
   "outputs": [
    {
     "data": {
      "text/plain": [
       "array([[-5, -4, -3, -2, -1,  0,  1,  2,  3,  4],\n",
       "       [-5, -4, -3, -2, -1,  0,  1,  2,  3,  4],\n",
       "       [-5, -4, -3, -2, -1,  0,  1,  2,  3,  4],\n",
       "       [-5, -4, -3, -2, -1,  0,  1,  2,  3,  4],\n",
       "       [-5, -4, -3, -2, -1,  0,  1,  2,  3,  4],\n",
       "       [-5, -4, -3, -2, -1,  0,  1,  2,  3,  4],\n",
       "       [-5, -4, -3, -2, -1,  0,  1,  2,  3,  4],\n",
       "       [-5, -4, -3, -2, -1,  0,  1,  2,  3,  4],\n",
       "       [-5, -4, -3, -2, -1,  0,  1,  2,  3,  4],\n",
       "       [-5, -4, -3, -2, -1,  0,  1,  2,  3,  4],\n",
       "       [-5, -4, -3, -2, -1,  0,  1,  2,  3,  4],\n",
       "       [-5, -4, -3, -2, -1,  0,  1,  2,  3,  4],\n",
       "       [-5, -4, -3, -2, -1,  0,  1,  2,  3,  4],\n",
       "       [-5, -4, -3, -2, -1,  0,  1,  2,  3,  4],\n",
       "       [-5, -4, -3, -2, -1,  0,  1,  2,  3,  4],\n",
       "       [-5, -4, -3, -2, -1,  0,  1,  2,  3,  4],\n",
       "       [-5, -4, -3, -2, -1,  0,  1,  2,  3,  4],\n",
       "       [-5, -4, -3, -2, -1,  0,  1,  2,  3,  4],\n",
       "       [-5, -4, -3, -2, -1,  0,  1,  2,  3,  4],\n",
       "       [-5, -4, -3, -2, -1,  0,  1,  2,  3,  4]])"
      ]
     },
     "execution_count": 88,
     "metadata": {},
     "output_type": "execute_result"
    }
   ],
   "source": [
    "xx"
   ]
  },
  {
   "cell_type": "code",
   "execution_count": 87,
   "metadata": {},
   "outputs": [
    {
     "data": {
      "text/plain": [
       "array([[-10, -10, -10, -10, -10, -10, -10, -10, -10, -10],\n",
       "       [ -9,  -9,  -9,  -9,  -9,  -9,  -9,  -9,  -9,  -9],\n",
       "       [ -8,  -8,  -8,  -8,  -8,  -8,  -8,  -8,  -8,  -8],\n",
       "       [ -7,  -7,  -7,  -7,  -7,  -7,  -7,  -7,  -7,  -7],\n",
       "       [ -6,  -6,  -6,  -6,  -6,  -6,  -6,  -6,  -6,  -6],\n",
       "       [ -5,  -5,  -5,  -5,  -5,  -5,  -5,  -5,  -5,  -5],\n",
       "       [ -4,  -4,  -4,  -4,  -4,  -4,  -4,  -4,  -4,  -4],\n",
       "       [ -3,  -3,  -3,  -3,  -3,  -3,  -3,  -3,  -3,  -3],\n",
       "       [ -2,  -2,  -2,  -2,  -2,  -2,  -2,  -2,  -2,  -2],\n",
       "       [ -1,  -1,  -1,  -1,  -1,  -1,  -1,  -1,  -1,  -1],\n",
       "       [  0,   0,   0,   0,   0,   0,   0,   0,   0,   0],\n",
       "       [  1,   1,   1,   1,   1,   1,   1,   1,   1,   1],\n",
       "       [  2,   2,   2,   2,   2,   2,   2,   2,   2,   2],\n",
       "       [  3,   3,   3,   3,   3,   3,   3,   3,   3,   3],\n",
       "       [  4,   4,   4,   4,   4,   4,   4,   4,   4,   4],\n",
       "       [  5,   5,   5,   5,   5,   5,   5,   5,   5,   5],\n",
       "       [  6,   6,   6,   6,   6,   6,   6,   6,   6,   6],\n",
       "       [  7,   7,   7,   7,   7,   7,   7,   7,   7,   7],\n",
       "       [  8,   8,   8,   8,   8,   8,   8,   8,   8,   8],\n",
       "       [  9,   9,   9,   9,   9,   9,   9,   9,   9,   9]])"
      ]
     },
     "execution_count": 87,
     "metadata": {},
     "output_type": "execute_result"
    }
   ],
   "source": [
    "yy"
   ]
  },
  {
   "cell_type": "code",
   "execution_count": 77,
   "metadata": {},
   "outputs": [],
   "source": [
    "z= xx**2+yy**2"
   ]
  },
  {
   "cell_type": "code",
   "execution_count": 78,
   "metadata": {},
   "outputs": [
    {
     "data": {
      "text/plain": [
       "array([[125, 116, 109, 104, 101, 100, 101, 104, 109, 116],\n",
       "       [106,  97,  90,  85,  82,  81,  82,  85,  90,  97],\n",
       "       [ 89,  80,  73,  68,  65,  64,  65,  68,  73,  80],\n",
       "       [ 74,  65,  58,  53,  50,  49,  50,  53,  58,  65],\n",
       "       [ 61,  52,  45,  40,  37,  36,  37,  40,  45,  52],\n",
       "       [ 50,  41,  34,  29,  26,  25,  26,  29,  34,  41],\n",
       "       [ 41,  32,  25,  20,  17,  16,  17,  20,  25,  32],\n",
       "       [ 34,  25,  18,  13,  10,   9,  10,  13,  18,  25],\n",
       "       [ 29,  20,  13,   8,   5,   4,   5,   8,  13,  20],\n",
       "       [ 26,  17,  10,   5,   2,   1,   2,   5,  10,  17],\n",
       "       [ 25,  16,   9,   4,   1,   0,   1,   4,   9,  16],\n",
       "       [ 26,  17,  10,   5,   2,   1,   2,   5,  10,  17],\n",
       "       [ 29,  20,  13,   8,   5,   4,   5,   8,  13,  20],\n",
       "       [ 34,  25,  18,  13,  10,   9,  10,  13,  18,  25],\n",
       "       [ 41,  32,  25,  20,  17,  16,  17,  20,  25,  32],\n",
       "       [ 50,  41,  34,  29,  26,  25,  26,  29,  34,  41],\n",
       "       [ 61,  52,  45,  40,  37,  36,  37,  40,  45,  52],\n",
       "       [ 74,  65,  58,  53,  50,  49,  50,  53,  58,  65],\n",
       "       [ 89,  80,  73,  68,  65,  64,  65,  68,  73,  80],\n",
       "       [106,  97,  90,  85,  82,  81,  82,  85,  90,  97]], dtype=int32)"
      ]
     },
     "execution_count": 78,
     "metadata": {},
     "output_type": "execute_result"
    }
   ],
   "source": [
    "z"
   ]
  },
  {
   "cell_type": "code",
   "execution_count": 79,
   "metadata": {},
   "outputs": [
    {
     "data": {
      "image/png": "[encoded data removed]",
      "text/plain": [
       "<Figure size 432x288 with 1 Axes>"
      ]
     },
     "metadata": {
      "needs_background": "light"
     },
     "output_type": "display_data"
    }
   ],
   "source": [
    "fig=figure()\n",
    "ax=Axes3D(fig)\n",
    "ax.plot_surface(xx,yy,z,rstride=1,cstride=1);"
   ]
  },
  {
   "cell_type": "code",
   "execution_count": 80,
   "metadata": {},
   "outputs": [],
   "source": [
    "ax.plot_surface?"
   ]
  },
  {
   "cell_type": "markdown",
   "metadata": {},
   "source": [
    "# Наприклад"
   ]
  },
  {
   "cell_type": "code",
   "execution_count": 2,
   "metadata": {},
   "outputs": [],
   "source": [
    "import numpy as np\n",
    "%matplotlib inline\n",
    "import matplotlib.pyplot as plt"
   ]
  },
  {
   "cell_type": "code",
   "execution_count": 28,
   "metadata": {},
   "outputs": [
    {
     "data": {
      "text/plain": [
       "\"for i in range(3):\\n    print 'Hello'\""
      ]
     },
     "execution_count": 28,
     "metadata": {},
     "output_type": "execute_result"
    }
   ],
   "source": [
    "In[5]"
   ]
  },
  {
   "cell_type": "code",
   "execution_count": 30,
   "metadata": {},
   "outputs": [
    {
     "ename": "NameError",
     "evalue": "name 'out' is not defined",
     "output_type": "error",
     "traceback": [
      "\u001b[1;31m---------------------------------------------------------------------------\u001b[0m",
      "\u001b[1;31mNameError\u001b[0m                                 Traceback (most recent call last)",
      "\u001b[1;32m<ipython-input-30-5a8ecaf45ff4>\u001b[0m in \u001b[0;36m<module>\u001b[1;34m\u001b[0m\n\u001b[1;32m----> 1\u001b[1;33m \u001b[0mout\u001b[0m\u001b[1;33m[\u001b[0m\u001b[1;36m5\u001b[0m\u001b[1;33m]\u001b[0m\u001b[1;33m\u001b[0m\u001b[1;33m\u001b[0m\u001b[0m\n\u001b[0m",
      "\u001b[1;31mNameError\u001b[0m: name 'out' is not defined"
     ]
    }
   ],
   "source": [
    "out[5]"
   ]
  },
  {
   "cell_type": "code",
   "execution_count": 31,
   "metadata": {},
   "outputs": [
    {
     "data": {
      "text/plain": [
       "'a=[]\\nfor i in range(11):\\n    a.append(2**i)\\na'"
      ]
     },
     "execution_count": 31,
     "metadata": {},
     "output_type": "execute_result"
    }
   ],
   "source": [
    "In[8]"
   ]
  },
  {
   "cell_type": "code",
   "execution_count": 40,
   "metadata": {},
   "outputs": [
    {
     "data": {
      "text/plain": [
       "[1, 2, 4, 8, 16, 32, 64, 128, 256, 512, 1024]"
      ]
     },
     "execution_count": 40,
     "metadata": {},
     "output_type": "execute_result"
    }
   ],
   "source": [
    "Out[32]"
   ]
  },
  {
   "cell_type": "code",
   "execution_count": 39,
   "metadata": {
    "scrolled": true
   },
   "outputs": [
    {
     "data": {
      "text/plain": [
       "[2, 4, 8, 16, 32, 64, 128, 256, 512, 1024, 2048]"
      ]
     },
     "execution_count": 39,
     "metadata": {},
     "output_type": "execute_result"
    }
   ],
   "source": [
    "[i*2 for i in Out[8] ]"
   ]
  },
  {
   "cell_type": "code",
   "execution_count": 36,
   "metadata": {},
   "outputs": [
    {
     "name": "stdout",
     "output_type": "stream",
     "text": [
      "File `test.py` exists. Overwrite (y/[N])?  y\n",
      "Out[32] is neither a string nor a macro.\n"
     ]
    }
   ],
   "source": [
    "%save test Out[32]"
   ]
  },
  {
   "cell_type": "code",
   "execution_count": 37,
   "metadata": {},
   "outputs": [],
   "source": [
    "%save?"
   ]
  },
  {
   "cell_type": "code",
   "execution_count": 44,
   "metadata": {},
   "outputs": [],
   "source": [
    "with open('Out.txt', 'w') as f:\n",
    "    f.write(str(Out[8]))"
   ]
  },
  {
   "cell_type": "code",
   "execution_count": 48,
   "metadata": {},
   "outputs": [
    {
     "data": {
      "text/plain": [
       "[['[1,',\n",
       "  '2,',\n",
       "  '4,',\n",
       "  '8,',\n",
       "  '16,',\n",
       "  '32,',\n",
       "  '64,',\n",
       "  '128,',\n",
       "  '256,',\n",
       "  '512,',\n",
       "  '1024]']]"
      ]
     },
     "execution_count": 48,
     "metadata": {},
     "output_type": "execute_result"
    }
   ],
   "source": [
    "with open('Out.txt') as f:\n",
    "    content = f.readlines()\n",
    "content = [x.split() for x in content]\n",
    "content"
   ]
  },
  {
   "cell_type": "code",
   "execution_count": 64,
   "metadata": {},
   "outputs": [],
   "source": [
    "with open('Out.txt', 'w') as f:\n",
    "    print(*Out[8], file=f)"
   ]
  },
  {
   "cell_type": "code",
   "execution_count": 65,
   "metadata": {},
   "outputs": [
    {
     "data": {
      "text/plain": [
       "[['1', '2', '4', '8', '16', '32', '64', '128', '256', '512', '1024']]"
      ]
     },
     "execution_count": 65,
     "metadata": {},
     "output_type": "execute_result"
    }
   ],
   "source": [
    "with open('Out.txt') as f:\n",
    "    content = f.readlines()\n",
    "content = [x.split() for x in content]\n",
    "content"
   ]
  },
  {
   "cell_type": "code",
   "execution_count": 69,
   "metadata": {},
   "outputs": [
    {
     "name": "stdout",
     "output_type": "stream",
     "text": [
      "1 2 4 8 16 32 64 128 256 512 1024\n"
     ]
    }
   ],
   "source": [
    "print(*Out[8])"
   ]
  },
  {
   "cell_type": "code",
   "execution_count": null,
   "metadata": {},
   "outputs": [],
   "source": []
  }
 ],
 "metadata": {
  "celltoolbar": "Raw Cell Format",
  "kernelspec": {
   "display_name": "Python 3",
   "language": "python",
   "name": "python3"
  },
  "language_info": {
   "codemirror_mode": {
    "name": "ipython",
    "version": 3
   },
   "file_extension": ".py",
   "mimetype": "text/x-python",
   "name": "python",
   "nbconvert_exporter": "python",
   "pygments_lexer": "ipython3",
   "version": "3.7.6"
  }
 },
 "nbformat": 4,
 "nbformat_minor": 4
}
